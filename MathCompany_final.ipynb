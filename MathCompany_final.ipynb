{
  "nbformat": 4,
  "nbformat_minor": 0,
  "metadata": {
    "colab": {
      "name": "MathCompany_final.ipynb",
      "provenance": [],
      "collapsed_sections": []
    },
    "kernelspec": {
      "display_name": "Python 3",
      "name": "python3"
    },
    "language_info": {
      "name": "python"
    }
  },
  "cells": [
    {
      "cell_type": "code",
      "metadata": {
        "id": "BNsyXODgZ1i8"
      },
      "source": [
        "import numpy as np\n",
        "import pandas as pd\n",
        "import seaborn as sns\n",
        "import matplotlib.pyplot as plt\n",
        "#from pycaret.classification import *"
      ],
      "execution_count": null,
      "outputs": []
    },
    {
      "cell_type": "code",
      "metadata": {
        "colab": {
          "base_uri": "https://localhost:8080/"
        },
        "id": "tlJ-96TXZ4YO",
        "outputId": "acaccb6f-5080-4cb6-e5c6-2597bb2d800b"
      },
      "source": [
        "from google.colab import drive \n",
        "drive.mount('/content/gdrive')"
      ],
      "execution_count": null,
      "outputs": [
        {
          "output_type": "stream",
          "text": [
            "Mounted at /content/gdrive\n"
          ],
          "name": "stdout"
        }
      ]
    },
    {
      "cell_type": "code",
      "metadata": {
        "id": "z-bCP19-Z4Tw"
      },
      "source": [
        "df_train = pd.read_csv('/content/gdrive/MyDrive/ML data sets /Participant_Data_TheMathCompany_/train.csv',na_values=['-'])\n",
        "df_test = pd.read_csv('/content/gdrive/MyDrive/ML data sets /Participant_Data_TheMathCompany_/test.csv',na_values=['-'])"
      ],
      "execution_count": null,
      "outputs": []
    },
    {
      "cell_type": "code",
      "metadata": {
        "id": "ky8RvMNIZ4MN"
      },
      "source": [
        "df=pd.concat([df_train,df_test])"
      ],
      "execution_count": null,
      "outputs": []
    },
    {
      "cell_type": "code",
      "metadata": {
        "id": "xvyIpwLV88u9"
      },
      "source": [
        "df.head()"
      ],
      "execution_count": null,
      "outputs": []
    },
    {
      "cell_type": "code",
      "metadata": {
        "id": "HJhWDZIUiWqd"
      },
      "source": [
        "plt.figure(figsize=(10,10))\n",
        "df.drop('ID',axis=1).boxplot()"
      ],
      "execution_count": null,
      "outputs": []
    },
    {
      "cell_type": "markdown",
      "metadata": {
        "id": "Ul_BSyokXvQ7"
      },
      "source": [
        "# Main"
      ]
    },
    {
      "cell_type": "code",
      "metadata": {
        "id": "ImdqEeFbafIn",
        "colab": {
          "base_uri": "https://localhost:8080/"
        },
        "outputId": "6bbe80c4-c8f6-4f90-8915-b41a1f5b8ef9"
      },
      "source": [
        "for i in df.columns:\n",
        "  print(i,'=> ','no. of unique values ',df[i].nunique(),'|',' null values ',df[i].isna().sum())\n",
        "  print(df[i].unique())\n",
        "  print('--------------------------------------------------------------------------------------------------')"
      ],
      "execution_count": null,
      "outputs": [
        {
          "output_type": "stream",
          "text": [
            "ID =>  no. of unique values  26886 |  null values  0\n",
            "[45654403 44731507 45774419 ... 45649860 45809706 45813163]\n",
            "--------------------------------------------------------------------------------------------------\n",
            "Price =>  no. of unique values  2315 |  null values  8245\n",
            "[13328. 16621.  8467. ... 63886. 22075.    nan]\n",
            "--------------------------------------------------------------------------------------------------\n",
            "Levy =>  no. of unique values  634 |  null values  8273\n",
            "[ 1399.  1018.    nan   862.   446.   891.   761.   751.   394.  1053.\n",
            "  1055.  1079.   810.  2386.  1850.   531.   586.  1249.  2455.   583.\n",
            "  1537.  1288.   915.  1750.   707.  1077.  1486.  1091.   650.   382.\n",
            "  1436.  1194.   503.  1017.  1104.   639.   629.   919.   781.   530.\n",
            "   640.   765.   777.   779.   934.   769.   645.  1185.  1324.   830.\n",
            "  1187.  1111.   760.   642.  1604.  1095.   966.   473.  1138.  1811.\n",
            "   988.   917.  1156.   687. 11714.   836.  1347.  2866.  1646.   259.\n",
            "   609.   697.   585.   475.   690.   308.  1823.  1361.  1273.   924.\n",
            "   584.  2078.   831.  1172.   893.  1872.  1885.  1266.   447.  2148.\n",
            "  1730.   730.   289.   502.   333.  1325.   247.   879.  1342.  1327.\n",
            "  1598.  1514.  1058.   738.  1935.   481.  1522.  1282.   456.   880.\n",
            "   900.   798.  1277.   442.  1051.   790.  1292.  1047.   528.  1211.\n",
            "  1493.  1793.   574.   930.  1998.   271.   706.  1481.  1677.  1661.\n",
            "  1286.  1408.  1090.   595.  1451.  1267.   993.  1714.   878.   641.\n",
            "   749.  1511.   603.   353.   877.  1236.  1141.   397.   784.  1024.\n",
            "  1357.  1301.   770.   922.  1438.   753.   607.  1363.   638.   490.\n",
            "   431.   565.   517.   833.   489.  1760.   986.  1841.  1620.  1360.\n",
            "   474.  1099.   978.  1624.  1946.  1268.  1307.   696.   649.   666.\n",
            "  2151.   551.   800.   971.  1323.  2377.  1845.  1083.   694.   463.\n",
            "   419.   345.  1515.  1505.  2056.  1203.   729.   460.  1356.   876.\n",
            "   911.  1190.   780.   448.  2410.  1848.  1148.   834.  1275.  1028.\n",
            "  1197.   724.   890.  1705.   505.   789.  2959.   518.   461.  1719.\n",
            "  2858.  3156.  2225.  2177.  1968.  1888.  1308.  2736.  1103.   557.\n",
            "  2195.   843.  1664.   723.  4508.   562.   501.  2018.  1076.  1202.\n",
            "  3301.   691.  1440.  1869.  1178.   418.  1820.  1413.   488.  1304.\n",
            "   363.  2108.   521.  1659.    87.  1411.  1528.  3292.  7058.  1578.\n",
            "   627.   874.  1996.  1488.  5679.  1234.  5603.   400.   889.  3268.\n",
            "   875.   949.  2265.   441.   742.   425.  2476.  2971.   614.  1816.\n",
            "  1375.  1405.  2297.  1062.  1113.   420.  2469.   658.  1951.  2670.\n",
            "  2578.  1995.  1032.   994.  1011.  2421.  1296.   155.   494.   426.\n",
            "  1086.   961.  2236.  1829.   764.  1834.  1054.   617.  1529.  2266.\n",
            "   637.   626.  1832.  1016.  2002.  1756.   746.  1285.  2690.  1118.\n",
            "  5332.   980.  1807.   970.  1228.  1195.  1132.  1768.  1384.  1080.\n",
            "  7063.  1817.  1452.  1975.  1368.   702.  1974.  1781.  1036.   944.\n",
            "   663.   364.  1539.  1345.  1680.  2209.   741.  1575.   695.  1317.\n",
            "   294.  1525.   424.   997.  1473.  1552.  2819.  2188.  1668.  3057.\n",
            "   799.  1502.  2606.   552.  1694.  1759.  1110.   399.  1470.  1174.\n",
            "  5877.  1474.  1688.   526.   686.  5908.  1107.  2070.  1468.  1246.\n",
            "  1685.   556.  1533.  1917.  1346.   732.   692.   579.   421.   362.\n",
            "  3505.  1855.  2711.  1586.  3739.   681.  1708.  2278.  1701.   722.\n",
            "  1482.   928.   827.   832.   527.   604.   173.  1341.  3329.  1553.\n",
            "   859.   167.   916.   828.  2082.  1176.  1108.   975.  3008.  1516.\n",
            "  2269.  1699.  2073.  1031.  1503.  2364.  1030.  1442.  5666.  2715.\n",
            "  1437.  2067.  1426.  2908.  1279.   866.  4283.   279.  2658.  3015.\n",
            "  2004.  1391.  4736.   748.  1466.   644.   683.  2705.  1297.   731.\n",
            "  1252.  2216.  3141.  3273.  1518.  1723.  1588.   972.   682.  1094.\n",
            "   668.   175.   967.   402.  3894.  1960.  1599.  2000.  2084.  1621.\n",
            "   714.  1109.  3989.   873.  1572.  1163.  1991.  1716.  1673.  2562.\n",
            "  2874.   965.   462.   605.  1948.  1736.  3518.  2054.  2467.  1681.\n",
            "  1272.  1205.   750.  2156.  2566.   115.   524.  3184.   676.  1678.\n",
            "   612.   328.   955.  1441.  1675.  3965.  2909.   623.   822.   867.\n",
            "  3025.  1993.   792.   636.  4057.  3743.  2337.  2570.  2418.  2472.\n",
            "  3910.  1662.  2123.  2628.  3208.  2080.  3699.  2913.   864.  2505.\n",
            "   870.  7536.  1924.  1671.  1064.  1836.  1866.  4741.   841.  1369.\n",
            "  5681.  3112.  1366.  2223.  1198.  1039.  3811.  3571.  1387.  1171.\n",
            "  1365.  1531.  1590. 11706.  2308.  4860.  1641.  1045.  1901.  1883.\n",
            "  1613.  4746.  3061.  2547.  3258.  7528.  2317.  1846.  3005.  2802.\n",
            "  1545.  2096.  2625.  1526.  1721.   437.   818.  1364.  1168.  2132.\n",
            "  3515.   771.  4514.  1844.   914.   923.  1830.  2553.  2008.   977.\n",
            "  2969.  4053.  1594.  1415.  1698.  5220.  1254.  1747.  3718.  2643.\n",
            "  1044.  4735.  1555.  5668.   582.  2390.   238.  1040.   835.   763.\n",
            "  2040.  1696.  1837.  1614.  1519.  2800.  1035.  2528.  4739.  1271.\n",
            "  1359.  2488.  2235.  2052.  1226.  4159.  2068.  2243.  2504.  1762.\n",
            "  3592.  1899.   704.  2373.   884.]\n",
            "--------------------------------------------------------------------------------------------------\n",
            "Manufacturer =>  no. of unique values  68 |  null values  0\n",
            "['LEXUS' 'CHEVROLET' 'HONDA' 'FORD' 'HYUNDAI' 'TOYOTA' 'MERCEDES-BENZ'\n",
            " 'OPEL' 'PORSCHE' 'BMW' 'JEEP' 'VOLKSWAGEN' 'AUDI' 'RENAULT' 'NISSAN'\n",
            " 'SUBARU' 'DAEWOO' 'KIA' 'MITSUBISHI' 'SSANGYONG' 'MAZDA' 'GMC' 'FIAT'\n",
            " 'INFINITI' 'ALFA ROMEO' 'SUZUKI' 'ACURA' 'LINCOLN' 'VAZ' 'GAZ' 'CITROEN'\n",
            " 'LAND ROVER' 'MINI' 'DODGE' 'CHRYSLER' 'JAGUAR' 'ISUZU' 'SKODA'\n",
            " 'DAIHATSU' 'BUICK' 'TESLA' 'CADILLAC' 'PEUGEOT' 'BENTLEY' 'VOLVO' 'სხვა'\n",
            " 'HAVAL' 'HUMMER' 'SCION' 'UAZ' 'MERCURY' 'ZAZ' 'ROVER' 'SEAT' 'LANCIA'\n",
            " 'MOSKVICH' 'MASERATI' 'FERRARI' 'SAAB' 'LAMBORGHINI' 'ROLLS-ROYCE'\n",
            " 'PONTIAC' 'SATURN' 'ASTON MARTIN' 'GREATWALL' 'TATA' 'FOTON' 'MG']\n",
            "--------------------------------------------------------------------------------------------------\n",
            "Model =>  no. of unique values  1981 |  null values  0\n",
            "['RX 450' 'Equinox' 'FIT' ... 'CX-3 Grand tauring' 'Stilo' '528 F10']\n",
            "--------------------------------------------------------------------------------------------------\n",
            "Prod. year =>  no. of unique values  59 |  null values  0\n",
            "[2010 2011 2006 2014 2016 2013 2007 1999 1997 2018 2008 2012 2017 2001\n",
            " 1995 2009 2000 2019 2015 2004 1998 1990 2005 2003 1985 1996 2002 1993\n",
            " 1992 1988 1977 1989 1994 2020 1984 1986 1991 1983 1953 1964 1974 1987\n",
            " 1943 1978 1965 1976 1957 1980 1939 1968 1947 1982 1981 1973 1966 1961\n",
            " 1979 1956 1970]\n",
            "--------------------------------------------------------------------------------------------------\n",
            "Category =>  no. of unique values  11 |  null values  0\n",
            "['Jeep' 'Hatchback' 'Sedan' 'Microbus' 'Goods wagon' 'Universal' 'Coupe'\n",
            " 'Minivan' 'Cabriolet' 'Limousine' 'Pickup']\n",
            "--------------------------------------------------------------------------------------------------\n",
            "Leather interior =>  no. of unique values  2 |  null values  0\n",
            "['Yes' 'No']\n",
            "--------------------------------------------------------------------------------------------------\n",
            "Fuel type =>  no. of unique values  7 |  null values  0\n",
            "['Hybrid' 'Petrol' 'Diesel' 'CNG' 'Plug-in Hybrid' 'LPG' 'Hydrogen']\n",
            "--------------------------------------------------------------------------------------------------\n",
            "Engine volume =>  no. of unique values  112 |  null values  0\n",
            "['3.5' '3' '1.3' '2.5' '2' '1.8' '2.4' '4' '1.6' '3.3' '2.0 Turbo'\n",
            " '2.2 Turbo' '4.7' '1.5' '4.4' '3.0 Turbo' '1.4 Turbo' '3.6' '2.3'\n",
            " '1.5 Turbo' '1.6 Turbo' '2.2' '2.3 Turbo' '1.4' '5.5' '2.8 Turbo' '3.2'\n",
            " '3.8' '4.6' '1.2' '5' '1.7' '2.9' '0.5' '1.8 Turbo' '2.4 Turbo'\n",
            " '3.5 Turbo' '1.9' '2.7' '4.8' '5.3' '0.4' '2.8' '3.2 Turbo' '1.1' '2.1'\n",
            " '0.7' '5.4' '1.3 Turbo' '3.7' '1' '2.5 Turbo' '2.6' '1.9 Turbo'\n",
            " '4.4 Turbo' '4.7 Turbo' '0.8' '0.2 Turbo' '5.7' '4.8 Turbo' '4.6 Turbo'\n",
            " '6.7' '6.2' '1.2 Turbo' '3.4' '1.7 Turbo' '6.3 Turbo' '2.7 Turbo' '4.3'\n",
            " '4.2' '2.9 Turbo' '0' '4.0 Turbo' '20' '3.6 Turbo' '0.3' '3.7 Turbo'\n",
            " '5.9' '5.5 Turbo' '0.2' '2.1 Turbo' '5.6' '6' '0.7 Turbo' '0.6 Turbo'\n",
            " '6.8' '4.5' '0.6' '7.3' '0.1' '1.0 Turbo' '6.3' '4.5 Turbo' '0.8 Turbo'\n",
            " '4.2 Turbo' '3.1' '5.0 Turbo' '6.4' '3.9' '5.7 Turbo' '0.9' '0.4 Turbo'\n",
            " '5.4 Turbo' '0.3 Turbo' '5.2' '5.8' '1.1 Turbo' '6.6' '6.1' '10.8'\n",
            " '6.0 Turbo' '2.6 Turbo']\n",
            "--------------------------------------------------------------------------------------------------\n",
            "Mileage =>  no. of unique values  9977 |  null values  0\n",
            "['186005 km' '192000 km' '200000 km' ... '319992 km' '81109 km'\n",
            " '146697 km']\n",
            "--------------------------------------------------------------------------------------------------\n",
            "Cylinders =>  no. of unique values  16 |  null values  0\n",
            "[  6.   4.   8.   1.  12.   3.   2.  16.   5.   7.   9.  10.  14. 127.\n",
            "  11.  15.]\n",
            "--------------------------------------------------------------------------------------------------\n",
            "Gear box type =>  no. of unique values  4 |  null values  0\n",
            "['Automatic' 'Tiptronic' 'Variator' 'Manual']\n",
            "--------------------------------------------------------------------------------------------------\n",
            "Drive wheels =>  no. of unique values  3 |  null values  0\n",
            "['4x4' 'Front' 'Rear']\n",
            "--------------------------------------------------------------------------------------------------\n",
            "Doors =>  no. of unique values  3 |  null values  0\n",
            "['04-May' '02-Mar' '>5']\n",
            "--------------------------------------------------------------------------------------------------\n",
            "Wheel =>  no. of unique values  2 |  null values  0\n",
            "['Left wheel' 'Right-hand drive']\n",
            "--------------------------------------------------------------------------------------------------\n",
            "Color =>  no. of unique values  16 |  null values  0\n",
            "['Silver' 'Black' 'White' 'Grey' 'Blue' 'Green' 'Red' 'Sky blue' 'Orange'\n",
            " 'Yellow' 'Brown' 'Golden' 'Beige' 'Carnelian red' 'Purple' 'Pink']\n",
            "--------------------------------------------------------------------------------------------------\n",
            "Airbags =>  no. of unique values  17 |  null values  0\n",
            "[12  8  2  0  4  6 10  3  1 16  5  7  9 11 14 15 13]\n",
            "--------------------------------------------------------------------------------------------------\n"
          ],
          "name": "stdout"
        }
      ]
    },
    {
      "cell_type": "code",
      "metadata": {
        "colab": {
          "base_uri": "https://localhost:8080/"
        },
        "id": "zIWk6Kt6YyOU",
        "outputId": "e03df02c-0e6c-43e2-d827-8bc8bc5af35d"
      },
      "source": [
        "df.dtypes"
      ],
      "execution_count": null,
      "outputs": [
        {
          "output_type": "execute_result",
          "data": {
            "text/plain": [
              "ID                    int64\n",
              "Price               float64\n",
              "Levy                float64\n",
              "Manufacturer         object\n",
              "Model                object\n",
              "Prod. year            int64\n",
              "Category             object\n",
              "Leather interior     object\n",
              "Fuel type            object\n",
              "Engine volume        object\n",
              "Mileage              object\n",
              "Cylinders           float64\n",
              "Gear box type        object\n",
              "Drive wheels         object\n",
              "Doors                object\n",
              "Wheel                object\n",
              "Color                object\n",
              "Airbags               int64\n",
              "dtype: object"
            ]
          },
          "metadata": {
            "tags": []
          },
          "execution_count": 11
        }
      ]
    },
    {
      "cell_type": "code",
      "metadata": {
        "id": "3YESJK0qZ1zB"
      },
      "source": [
        "# remove outlier from Cylinders\n",
        "df['Cylinders'].replace({127:4},inplace=True)"
      ],
      "execution_count": null,
      "outputs": []
    },
    {
      "cell_type": "code",
      "metadata": {
        "id": "XOMkEagKZeXH"
      },
      "source": [
        "# encoding - ranking Model based on Price \n",
        "a = df.groupby('Model')['Price'].mean().sort_values(0,ascending=False).rank(method='max').to_dict()"
      ],
      "execution_count": null,
      "outputs": []
    },
    {
      "cell_type": "code",
      "metadata": {
        "id": "EV80sg7VaRWS"
      },
      "source": [
        "df['Model']=df['Model'].map(a)"
      ],
      "execution_count": null,
      "outputs": []
    },
    {
      "cell_type": "code",
      "metadata": {
        "id": "k2Pk7TV8dkRW"
      },
      "source": [
        "# encoding - Category based on Price \n",
        "df['Category'].replace({'Jeep':7, 'Hatchback':1, 'Sedan':3, 'Microbus':4, 'Goods wagon':11,\n",
        "       'Universal':9, 'Coupe':6, 'Minivan':5, 'Cabriolet':8, 'Limousine':2,\n",
        "       'Pickup':10},inplace=True)"
      ],
      "execution_count": null,
      "outputs": []
    },
    {
      "cell_type": "code",
      "metadata": {
        "id": "np40R3tfej_B"
      },
      "source": [
        "# encoding - Leather interior  based on Price \n",
        "df['Leather interior'].replace({'Yes':2,'No':0},inplace=True)"
      ],
      "execution_count": null,
      "outputs": []
    },
    {
      "cell_type": "code",
      "metadata": {
        "id": "HKDxdeswe_3A"
      },
      "source": [
        "# encoding - Fuel Type based on Price\n",
        "df['Fuel type'].replace({'Hybrid':2, 'Petrol':4, 'Diesel':7, 'CNG':1, 'Plug-in Hybrid':6, 'LPG':3,\n",
        "       'Hydrogen':5},inplace=True)"
      ],
      "execution_count": null,
      "outputs": []
    },
    {
      "cell_type": "code",
      "metadata": {
        "id": "z8OzCKaufglU"
      },
      "source": [
        "# encoding - Gear Box Type based on Price\n",
        "df['Gear box type'].replace({'Automatic':2, 'Tiptronic':2, 'Variator':2, 'Manual':1},inplace=True)"
      ],
      "execution_count": null,
      "outputs": []
    },
    {
      "cell_type": "code",
      "metadata": {
        "id": "B4YEMrTbgwD8"
      },
      "source": [
        "# encoding - Drive wheels based on Price\n",
        "df['Drive wheels'].replace({'4x4':3, 'Front':2, 'Rear':1},inplace=True)"
      ],
      "execution_count": null,
      "outputs": []
    },
    {
      "cell_type": "code",
      "metadata": {
        "id": "k27VcRTehB5c"
      },
      "source": [
        "# encoding - Wheels based on Price\n",
        "df['Wheel'].replace({'Left wheel':2,'Right-hand drive':1},inplace=True)"
      ],
      "execution_count": null,
      "outputs": []
    },
    {
      "cell_type": "code",
      "metadata": {
        "id": "GqrdkOZLhMA1"
      },
      "source": [
        "\n",
        "x = df['Color'].value_counts(normalize=True).head(30).to_dict()"
      ],
      "execution_count": null,
      "outputs": []
    },
    {
      "cell_type": "code",
      "metadata": {
        "id": "Aq1C78mdh9hK"
      },
      "source": [
        "df['color']=df['Color'].map(x)"
      ],
      "execution_count": null,
      "outputs": []
    },
    {
      "cell_type": "code",
      "metadata": {
        "id": "D6eE--UCjEUB"
      },
      "source": [
        "# encoding - Color based on Price\n",
        "df['Color'].replace({'Silver':8, 'Black':12, 'White':11, 'Grey':13, 'Blue':16, 'Green':2, 'Red':5,\n",
        "       'Sky blue':6, 'Orange':4, 'Yellow':15, 'Brown':14, 'Golden':7, 'Beige':9,\n",
        "       'Carnelian red':10, 'Purple':1, 'Pink':3},inplace=True)"
      ],
      "execution_count": null,
      "outputs": []
    },
    {
      "cell_type": "code",
      "metadata": {
        "id": "F50FSe2pjzzU"
      },
      "source": [
        "# remove Km from Mileage\n",
        "df['new_mileage']=df['Mileage'].str.split(' km',expand=True)[0]"
      ],
      "execution_count": null,
      "outputs": []
    },
    {
      "cell_type": "code",
      "metadata": {
        "id": "7JiZnc3fdOiH"
      },
      "source": [
        "# remove vales of 0 km from \n",
        "df['new_mileage'].replace({'0':np.nan},inplace=True)\n"
      ],
      "execution_count": null,
      "outputs": []
    },
    {
      "cell_type": "code",
      "metadata": {
        "colab": {
          "base_uri": "https://localhost:8080/",
          "height": 475
        },
        "id": "8-JW7d2faS3a",
        "outputId": "d1cc510e-db15-4534-ffaa-056b42c0c6d0"
      },
      "source": [
        "df.corr()"
      ],
      "execution_count": null,
      "outputs": [
        {
          "output_type": "execute_result",
          "data": {
            "text/html": [
              "<div>\n",
              "<style scoped>\n",
              "    .dataframe tbody tr th:only-of-type {\n",
              "        vertical-align: middle;\n",
              "    }\n",
              "\n",
              "    .dataframe tbody tr th {\n",
              "        vertical-align: top;\n",
              "    }\n",
              "\n",
              "    .dataframe thead th {\n",
              "        text-align: right;\n",
              "    }\n",
              "</style>\n",
              "<table border=\"1\" class=\"dataframe\">\n",
              "  <thead>\n",
              "    <tr style=\"text-align: right;\">\n",
              "      <th></th>\n",
              "      <th>ID</th>\n",
              "      <th>Price</th>\n",
              "      <th>Levy</th>\n",
              "      <th>Model</th>\n",
              "      <th>Prod. year</th>\n",
              "      <th>Category</th>\n",
              "      <th>Leather interior</th>\n",
              "      <th>Fuel type</th>\n",
              "      <th>Cylinders</th>\n",
              "      <th>Gear box type</th>\n",
              "      <th>Drive wheels</th>\n",
              "      <th>Airbags</th>\n",
              "      <th>color</th>\n",
              "      <th>a</th>\n",
              "    </tr>\n",
              "  </thead>\n",
              "  <tbody>\n",
              "    <tr>\n",
              "      <th>ID</th>\n",
              "      <td>1.000000</td>\n",
              "      <td>-0.000844</td>\n",
              "      <td>-0.023875</td>\n",
              "      <td>-0.000125</td>\n",
              "      <td>0.070181</td>\n",
              "      <td>0.025507</td>\n",
              "      <td>0.104186</td>\n",
              "      <td>0.032201</td>\n",
              "      <td>-0.038632</td>\n",
              "      <td>0.013664</td>\n",
              "      <td>0.013712</td>\n",
              "      <td>-0.014193</td>\n",
              "      <td>0.008631</td>\n",
              "      <td>0.004714</td>\n",
              "    </tr>\n",
              "    <tr>\n",
              "      <th>Price</th>\n",
              "      <td>-0.000844</td>\n",
              "      <td>1.000000</td>\n",
              "      <td>0.063291</td>\n",
              "      <td>0.069065</td>\n",
              "      <td>0.012982</td>\n",
              "      <td>0.043011</td>\n",
              "      <td>0.000754</td>\n",
              "      <td>0.035484</td>\n",
              "      <td>0.007518</td>\n",
              "      <td>-0.012172</td>\n",
              "      <td>0.003419</td>\n",
              "      <td>-0.012824</td>\n",
              "      <td>-0.003236</td>\n",
              "      <td>-0.001815</td>\n",
              "    </tr>\n",
              "    <tr>\n",
              "      <th>Levy</th>\n",
              "      <td>-0.023875</td>\n",
              "      <td>0.063291</td>\n",
              "      <td>1.000000</td>\n",
              "      <td>0.086124</td>\n",
              "      <td>-0.235871</td>\n",
              "      <td>0.264926</td>\n",
              "      <td>0.019212</td>\n",
              "      <td>0.129450</td>\n",
              "      <td>0.586911</td>\n",
              "      <td>-0.093719</td>\n",
              "      <td>0.178019</td>\n",
              "      <td>0.076523</td>\n",
              "      <td>0.067987</td>\n",
              "      <td>0.020937</td>\n",
              "    </tr>\n",
              "    <tr>\n",
              "      <th>Model</th>\n",
              "      <td>-0.000125</td>\n",
              "      <td>0.069065</td>\n",
              "      <td>0.086124</td>\n",
              "      <td>1.000000</td>\n",
              "      <td>0.324246</td>\n",
              "      <td>0.386883</td>\n",
              "      <td>0.275571</td>\n",
              "      <td>0.379004</td>\n",
              "      <td>0.118866</td>\n",
              "      <td>0.172757</td>\n",
              "      <td>0.048626</td>\n",
              "      <td>-0.075273</td>\n",
              "      <td>0.094359</td>\n",
              "      <td>-0.030088</td>\n",
              "    </tr>\n",
              "    <tr>\n",
              "      <th>Prod. year</th>\n",
              "      <td>0.070181</td>\n",
              "      <td>0.012982</td>\n",
              "      <td>-0.235871</td>\n",
              "      <td>0.324246</td>\n",
              "      <td>1.000000</td>\n",
              "      <td>-0.018737</td>\n",
              "      <td>0.397166</td>\n",
              "      <td>0.037992</td>\n",
              "      <td>-0.087303</td>\n",
              "      <td>0.525745</td>\n",
              "      <td>0.129846</td>\n",
              "      <td>0.236227</td>\n",
              "      <td>0.124522</td>\n",
              "      <td>-0.063013</td>\n",
              "    </tr>\n",
              "    <tr>\n",
              "      <th>Category</th>\n",
              "      <td>0.025507</td>\n",
              "      <td>0.043011</td>\n",
              "      <td>0.264926</td>\n",
              "      <td>0.386883</td>\n",
              "      <td>-0.018737</td>\n",
              "      <td>1.000000</td>\n",
              "      <td>0.136728</td>\n",
              "      <td>0.365910</td>\n",
              "      <td>0.217123</td>\n",
              "      <td>-0.072396</td>\n",
              "      <td>0.299155</td>\n",
              "      <td>-0.082102</td>\n",
              "      <td>0.049909</td>\n",
              "      <td>-0.004883</td>\n",
              "    </tr>\n",
              "    <tr>\n",
              "      <th>Leather interior</th>\n",
              "      <td>0.104186</td>\n",
              "      <td>0.000754</td>\n",
              "      <td>0.019212</td>\n",
              "      <td>0.275571</td>\n",
              "      <td>0.397166</td>\n",
              "      <td>0.136728</td>\n",
              "      <td>1.000000</td>\n",
              "      <td>0.129932</td>\n",
              "      <td>0.202866</td>\n",
              "      <td>0.392489</td>\n",
              "      <td>0.096949</td>\n",
              "      <td>0.167343</td>\n",
              "      <td>0.132272</td>\n",
              "      <td>-0.033464</td>\n",
              "    </tr>\n",
              "    <tr>\n",
              "      <th>Fuel type</th>\n",
              "      <td>0.032201</td>\n",
              "      <td>0.035484</td>\n",
              "      <td>0.129450</td>\n",
              "      <td>0.379004</td>\n",
              "      <td>0.037992</td>\n",
              "      <td>0.365910</td>\n",
              "      <td>0.129932</td>\n",
              "      <td>1.000000</td>\n",
              "      <td>0.032407</td>\n",
              "      <td>-0.117668</td>\n",
              "      <td>-0.040804</td>\n",
              "      <td>-0.123126</td>\n",
              "      <td>0.070834</td>\n",
              "      <td>-0.016799</td>\n",
              "    </tr>\n",
              "    <tr>\n",
              "      <th>Cylinders</th>\n",
              "      <td>-0.038632</td>\n",
              "      <td>0.007518</td>\n",
              "      <td>0.586911</td>\n",
              "      <td>0.118866</td>\n",
              "      <td>-0.087303</td>\n",
              "      <td>0.217123</td>\n",
              "      <td>0.202866</td>\n",
              "      <td>0.032407</td>\n",
              "      <td>1.000000</td>\n",
              "      <td>0.091044</td>\n",
              "      <td>0.216121</td>\n",
              "      <td>0.166515</td>\n",
              "      <td>0.111556</td>\n",
              "      <td>-0.004695</td>\n",
              "    </tr>\n",
              "    <tr>\n",
              "      <th>Gear box type</th>\n",
              "      <td>0.013664</td>\n",
              "      <td>-0.012172</td>\n",
              "      <td>-0.093719</td>\n",
              "      <td>0.172757</td>\n",
              "      <td>0.525745</td>\n",
              "      <td>-0.072396</td>\n",
              "      <td>0.392489</td>\n",
              "      <td>-0.117668</td>\n",
              "      <td>0.091044</td>\n",
              "      <td>1.000000</td>\n",
              "      <td>0.195633</td>\n",
              "      <td>0.209879</td>\n",
              "      <td>0.100882</td>\n",
              "      <td>-0.046372</td>\n",
              "    </tr>\n",
              "    <tr>\n",
              "      <th>Drive wheels</th>\n",
              "      <td>0.013712</td>\n",
              "      <td>0.003419</td>\n",
              "      <td>0.178019</td>\n",
              "      <td>0.048626</td>\n",
              "      <td>0.129846</td>\n",
              "      <td>0.299155</td>\n",
              "      <td>0.096949</td>\n",
              "      <td>-0.040804</td>\n",
              "      <td>0.216121</td>\n",
              "      <td>0.195633</td>\n",
              "      <td>1.000000</td>\n",
              "      <td>0.014997</td>\n",
              "      <td>0.040873</td>\n",
              "      <td>-0.008579</td>\n",
              "    </tr>\n",
              "    <tr>\n",
              "      <th>Airbags</th>\n",
              "      <td>-0.014193</td>\n",
              "      <td>-0.012824</td>\n",
              "      <td>0.076523</td>\n",
              "      <td>-0.075273</td>\n",
              "      <td>0.236227</td>\n",
              "      <td>-0.082102</td>\n",
              "      <td>0.167343</td>\n",
              "      <td>-0.123126</td>\n",
              "      <td>0.166515</td>\n",
              "      <td>0.209879</td>\n",
              "      <td>0.014997</td>\n",
              "      <td>1.000000</td>\n",
              "      <td>0.054205</td>\n",
              "      <td>-0.007489</td>\n",
              "    </tr>\n",
              "    <tr>\n",
              "      <th>color</th>\n",
              "      <td>0.008631</td>\n",
              "      <td>-0.003236</td>\n",
              "      <td>0.067987</td>\n",
              "      <td>0.094359</td>\n",
              "      <td>0.124522</td>\n",
              "      <td>0.049909</td>\n",
              "      <td>0.132272</td>\n",
              "      <td>0.070834</td>\n",
              "      <td>0.111556</td>\n",
              "      <td>0.100882</td>\n",
              "      <td>0.040873</td>\n",
              "      <td>0.054205</td>\n",
              "      <td>1.000000</td>\n",
              "      <td>-0.010811</td>\n",
              "    </tr>\n",
              "    <tr>\n",
              "      <th>a</th>\n",
              "      <td>0.004714</td>\n",
              "      <td>-0.001815</td>\n",
              "      <td>0.020937</td>\n",
              "      <td>-0.030088</td>\n",
              "      <td>-0.063013</td>\n",
              "      <td>-0.004883</td>\n",
              "      <td>-0.033464</td>\n",
              "      <td>-0.016799</td>\n",
              "      <td>-0.004695</td>\n",
              "      <td>-0.046372</td>\n",
              "      <td>-0.008579</td>\n",
              "      <td>-0.007489</td>\n",
              "      <td>-0.010811</td>\n",
              "      <td>1.000000</td>\n",
              "    </tr>\n",
              "  </tbody>\n",
              "</table>\n",
              "</div>"
            ],
            "text/plain": [
              "                        ID     Price      Levy  ...   Airbags     color         a\n",
              "ID                1.000000 -0.000844 -0.023875  ... -0.014193  0.008631  0.004714\n",
              "Price            -0.000844  1.000000  0.063291  ... -0.012824 -0.003236 -0.001815\n",
              "Levy             -0.023875  0.063291  1.000000  ...  0.076523  0.067987  0.020937\n",
              "Model            -0.000125  0.069065  0.086124  ... -0.075273  0.094359 -0.030088\n",
              "Prod. year        0.070181  0.012982 -0.235871  ...  0.236227  0.124522 -0.063013\n",
              "Category          0.025507  0.043011  0.264926  ... -0.082102  0.049909 -0.004883\n",
              "Leather interior  0.104186  0.000754  0.019212  ...  0.167343  0.132272 -0.033464\n",
              "Fuel type         0.032201  0.035484  0.129450  ... -0.123126  0.070834 -0.016799\n",
              "Cylinders        -0.038632  0.007518  0.586911  ...  0.166515  0.111556 -0.004695\n",
              "Gear box type     0.013664 -0.012172 -0.093719  ...  0.209879  0.100882 -0.046372\n",
              "Drive wheels      0.013712  0.003419  0.178019  ...  0.014997  0.040873 -0.008579\n",
              "Airbags          -0.014193 -0.012824  0.076523  ...  1.000000  0.054205 -0.007489\n",
              "color             0.008631 -0.003236  0.067987  ...  0.054205  1.000000 -0.010811\n",
              "a                 0.004714 -0.001815  0.020937  ... -0.007489 -0.010811  1.000000\n",
              "\n",
              "[14 rows x 14 columns]"
            ]
          },
          "metadata": {
            "tags": []
          },
          "execution_count": 46
        }
      ]
    },
    {
      "cell_type": "code",
      "metadata": {
        "id": "xf1c3jQBI2lf"
      },
      "source": [
        "# fill na 'Mileage'\n",
        "df['new_mileage'].fillna(df.groupby('Color')['new_mileage'].transform('mean'),inplace=True)"
      ],
      "execution_count": null,
      "outputs": []
    },
    {
      "cell_type": "code",
      "metadata": {
        "id": "hWGnjvOkasSc"
      },
      "source": [
        "# fill na Levy \n",
        "df['Levy'].fillna(df.groupby('Engine volume')['Levy'].transform('mean'),inplace=True)"
      ],
      "execution_count": null,
      "outputs": []
    },
    {
      "cell_type": "code",
      "metadata": {
        "id": "rh4pjT6GTdu2"
      },
      "source": [
        "mfp = df.groupby(['Manufacturer'])['Price'].mean().sort_values(0,ascending=False).head(200).rank(method='max').to_dict()"
      ],
      "execution_count": null,
      "outputs": []
    },
    {
      "cell_type": "code",
      "metadata": {
        "id": "hVzyTlKJUbWg"
      },
      "source": [
        "df['Manufacturer']=df['Manufacturer'].map(mfp)"
      ],
      "execution_count": null,
      "outputs": []
    },
    {
      "cell_type": "code",
      "metadata": {
        "id": "cR2b-lqB1n_6"
      },
      "source": [
        "a=df.groupby(['Engine volume'])['Price'].mean().sort_values(0,ascending=False).rank(method='max').fillna(10).to_dict()"
      ],
      "execution_count": null,
      "outputs": []
    },
    {
      "cell_type": "code",
      "metadata": {
        "id": "Mxmg8jsB11N1"
      },
      "source": [
        "df['Engine volume']=df['Engine volume'].map(a)"
      ],
      "execution_count": null,
      "outputs": []
    },
    {
      "cell_type": "code",
      "metadata": {
        "colab": {
          "base_uri": "https://localhost:8080/"
        },
        "id": "gFDXESSOn9DP",
        "outputId": "b1c0ddb6-5460-44d5-d43c-e96aca604b3e"
      },
      "source": [
        "df.Doors.unique()"
      ],
      "execution_count": null,
      "outputs": [
        {
          "output_type": "execute_result",
          "data": {
            "text/plain": [
              "array(['04-May', '02-Mar', '>5'], dtype=object)"
            ]
          },
          "metadata": {
            "tags": []
          },
          "execution_count": 25
        }
      ]
    },
    {
      "cell_type": "code",
      "metadata": {
        "id": "LCQqQYi_n1P-"
      },
      "source": [
        "df.Doors.replace({'04-May':3, '02-Mar':2, '>5':1},inplace=True)"
      ],
      "execution_count": null,
      "outputs": []
    },
    {
      "cell_type": "code",
      "metadata": {
        "id": "Z9oRyznljeEy"
      },
      "source": [
        "df['Manufacturer'].fillna(53.0,inplace=True)"
      ],
      "execution_count": null,
      "outputs": []
    },
    {
      "cell_type": "code",
      "metadata": {
        "id": "m0ifPFdh9H74"
      },
      "source": [
        "df['Levy'].fillna(0,inplace=True)"
      ],
      "execution_count": null,
      "outputs": []
    },
    {
      "cell_type": "code",
      "metadata": {
        "id": "1qboVapn-jJk"
      },
      "source": [
        "df['new_mileage']=df['new_mileage'].astype(int)"
      ],
      "execution_count": null,
      "outputs": []
    },
    {
      "cell_type": "code",
      "metadata": {
        "id": "E4339_FTJJDB"
      },
      "source": [
        "df['lev_A']=df['Levy']/df['new_mileage']*100"
      ],
      "execution_count": null,
      "outputs": []
    },
    {
      "cell_type": "code",
      "metadata": {
        "id": "O4iNyLv-Es09"
      },
      "source": [
        "df['lev_A'].fillna(0,inplace=True)"
      ],
      "execution_count": null,
      "outputs": []
    },
    {
      "cell_type": "code",
      "metadata": {
        "id": "djwL92_cGwms"
      },
      "source": [
        "df['Prod']=abs(df['Prod. year']-1900)"
      ],
      "execution_count": null,
      "outputs": []
    },
    {
      "cell_type": "code",
      "metadata": {
        "id": "lTgKwZRQcrYT"
      },
      "source": [
        "df['Levy_air']=round(df['Levy']/df['Airbags'].astype(int))"
      ],
      "execution_count": null,
      "outputs": []
    },
    {
      "cell_type": "code",
      "metadata": {
        "id": "U3DqH-OBG_WF"
      },
      "source": [
        "df['a_cyl']=df['new_mileage']/df['Cylinders'].astype(int)\n",
        "df['a_cat']=df['new_mileage']/df['Category'].astype(int)\n",
        "df['a_flt']=df['new_mileage']/df['Fuel type'].astype(int)\n",
        "df['a_gbt']=df['new_mileage']/df['Gear box type'].astype(int)\n",
        "\n",
        "df['a_dw']=df['new_mileage']/df['Drive wheels'].astype(int)\n",
        "\n",
        "df['l_cyl']=df['Levy']/df['Cylinders'].astype(int)\n",
        "df['l_cat']=df['Levy']/df['Category'].astype(int)\n",
        "df['l_flt']=df['Levy']/df['Fuel type'].astype(int)\n",
        "df['l_gbt']=df['Levy']/df['Gear box type'].astype(int)\n",
        "\n",
        "\n",
        "df['l_dw']=df['Levy']/df['Drive wheels'].astype(int)\n"
      ],
      "execution_count": null,
      "outputs": []
    },
    {
      "cell_type": "code",
      "metadata": {
        "id": "5QANlmeIn-l3"
      },
      "source": [
        "df['Prod. year']=pd.qcut(df['Prod. year'],3,labels=[1,2,3])"
      ],
      "execution_count": null,
      "outputs": []
    },
    {
      "cell_type": "code",
      "metadata": {
        "id": "_s5luGTmFeu3"
      },
      "source": [
        "#df = df.reset_index(inplace=True)\n",
        "df.replace([np.inf, -np.inf,np.nan],1, inplace=True)"
      ],
      "execution_count": null,
      "outputs": []
    },
    {
      "cell_type": "code",
      "metadata": {
        "id": "Wa0duZL2DoPv"
      },
      "source": [
        "df['Prod. year']=df['Prod. year'].astype(int)"
      ],
      "execution_count": null,
      "outputs": []
    },
    {
      "cell_type": "code",
      "metadata": {
        "id": "lP1evdAo7DlY"
      },
      "source": [
        "train_len = len(df_train)\n",
        "train_ = df[:train_len]\n",
        "test_ = df[train_len:]"
      ],
      "execution_count": null,
      "outputs": []
    },
    {
      "cell_type": "code",
      "metadata": {
        "id": "ZqA5VHii9QuN"
      },
      "source": [
        "from sklearn.model_selection import train_test_split,cross_val_score\n",
        "\n",
        "y=train_['Price']#.values.reshape(-1,1)\n",
        "x=train_.drop(['Price','Mileage','ID','Wheel','Color'],axis=1)\n",
        "\n",
        "\n",
        "X_train,X_test,y_train,y_test = train_test_split(x,y,test_size=0.1,random_state=34)"
      ],
      "execution_count": null,
      "outputs": []
    },
    {
      "cell_type": "code",
      "metadata": {
        "colab": {
          "base_uri": "https://localhost:8080/"
        },
        "id": "2Nk8xx6JlrYO",
        "outputId": "b113d788-028a-44da-b9f7-9746fc36847b"
      },
      "source": [
        "pip install catboost\n",
        "pip install Lightgbm"
      ],
      "execution_count": null,
      "outputs": [
        {
          "output_type": "stream",
          "text": [
            "Collecting catboost\n",
            "\u001b[?25l  Downloading https://files.pythonhosted.org/packages/5a/41/24e14322b9986cf72a8763e0a0a69cc256cf963cf9502c8f0044a62c1ae8/catboost-0.26-cp37-none-manylinux1_x86_64.whl (69.2MB)\n",
            "\u001b[K     |████████████████████████████████| 69.2MB 43kB/s \n",
            "\u001b[?25hRequirement already satisfied: pandas>=0.24.0 in /usr/local/lib/python3.7/dist-packages (from catboost) (1.1.5)\n",
            "Requirement already satisfied: plotly in /usr/local/lib/python3.7/dist-packages (from catboost) (4.4.1)\n",
            "Requirement already satisfied: six in /usr/local/lib/python3.7/dist-packages (from catboost) (1.15.0)\n",
            "Requirement already satisfied: matplotlib in /usr/local/lib/python3.7/dist-packages (from catboost) (3.2.2)\n",
            "Requirement already satisfied: scipy in /usr/local/lib/python3.7/dist-packages (from catboost) (1.4.1)\n",
            "Requirement already satisfied: graphviz in /usr/local/lib/python3.7/dist-packages (from catboost) (0.10.1)\n",
            "Requirement already satisfied: numpy>=1.16.0 in /usr/local/lib/python3.7/dist-packages (from catboost) (1.19.5)\n",
            "Requirement already satisfied: pytz>=2017.2 in /usr/local/lib/python3.7/dist-packages (from pandas>=0.24.0->catboost) (2018.9)\n",
            "Requirement already satisfied: python-dateutil>=2.7.3 in /usr/local/lib/python3.7/dist-packages (from pandas>=0.24.0->catboost) (2.8.1)\n",
            "Requirement already satisfied: retrying>=1.3.3 in /usr/local/lib/python3.7/dist-packages (from plotly->catboost) (1.3.3)\n",
            "Requirement already satisfied: kiwisolver>=1.0.1 in /usr/local/lib/python3.7/dist-packages (from matplotlib->catboost) (1.3.1)\n",
            "Requirement already satisfied: pyparsing!=2.0.4,!=2.1.2,!=2.1.6,>=2.0.1 in /usr/local/lib/python3.7/dist-packages (from matplotlib->catboost) (2.4.7)\n",
            "Requirement already satisfied: cycler>=0.10 in /usr/local/lib/python3.7/dist-packages (from matplotlib->catboost) (0.10.0)\n",
            "Installing collected packages: catboost\n",
            "Successfully installed catboost-0.26\n"
          ],
          "name": "stdout"
        }
      ]
    },
    {
      "cell_type": "code",
      "metadata": {
        "id": "GIzfGjoDlndc"
      },
      "source": [
        "#REgressor\n",
        "from sklearn.linear_model import LinearRegression\n",
        "from sklearn.linear_model import Ridge\n",
        "from sklearn.tree import DecisionTreeRegressor\n",
        "from sklearn.ensemble import ExtraTreesRegressor\n",
        "from sklearn.ensemble import RandomForestRegressor\n",
        "import xgboost\n",
        "from sklearn.ensemble import VotingRegressor\n",
        "from sklearn.ensemble import AdaBoostRegressor\n",
        "from sklearn.ensemble import GradientBoostingRegressor\n",
        "from sklearn.neighbors import KNeighborsRegressor\n",
        "from lightgbm import LGBMRegressor\n",
        "from sklearn.linear_model import ElasticNet\n",
        "from sklearn.ensemble import StackingRegressor\n",
        "from catboost import CatBoostRegressor\n",
        "#Evalution Metrix\n",
        "from sklearn.metrics import r2_score\n",
        "from sklearn.model_selection import cross_validate\n",
        "from sklearn.metrics import mean_squared_error,mean_squared_log_error"
      ],
      "execution_count": null,
      "outputs": []
    },
    {
      "cell_type": "code",
      "metadata": {
        "id": "3IzqpLM9lw-N"
      },
      "source": [
        "reg = {\n",
        "\"LinearRegression\": LinearRegression(),\n",
        "\"KNeighborsRegressor\":KNeighborsRegressor(n_neighbors=2),\n",
        "\"AdaBoostRegressor\":AdaBoostRegressor(random_state=0, n_estimators=100),\n",
        "\"LGBMRegressor\":LGBMRegressor(),\n",
        "\"Ridge\": Ridge(alpha=1.0),\n",
        "\"ElasticNet\":ElasticNet(random_state=0),\n",
        "\"GradientBoostingRegressor\":GradientBoostingRegressor(random_state=0),\n",
        "\"DecisionTreeRegressor\": DecisionTreeRegressor(),\n",
        "\"ExtraTreesRegressor\": ExtraTreesRegressor(n_jobs=-1),\n",
        "\"RandomForestRegressor\": RandomForestRegressor(n_jobs=-1),\n",
        "\"XGBRegressor\":xgboost.XGBRegressor(n_jobs=-1),\n",
        "\"CatBoostRegressor\":CatBoostRegressor(iterations=900, depth=5, learning_rate=0.05,loss_function = 'RMSE')\n",
        "#\"VottingRegressor\": VotingRegressor([('rf', rf),('xgb',xgb),('et',et)],n_jobs=-1)\n",
        "#\"Stcking\" : StackingRegressor(estimators=[('et', et),('xgb',xgb),('rf',rf)], final_estimator=LinearRegression(), cv=5)\n",
        "}"
      ],
      "execution_count": null,
      "outputs": []
    },
    {
      "cell_type": "code",
      "metadata": {
        "colab": {
          "base_uri": "https://localhost:8080/"
        },
        "id": "f6FSBYjpl4gU",
        "outputId": "c1ed313d-356b-43a4-b240-4edc8c432a0b"
      },
      "source": [
        "%%time\n",
        "dic =  {\"Model\":[],\"R2_Train\":[],\"RMSE_Train\":[]}\n",
        "for name, model in reg.items():\n",
        "    if name == 'CatBoostRegressor':\n",
        "        model.fit(x, y,verbose=False)\n",
        "    else:\n",
        "        model.fit(x, y)\n",
        "    #y_test_pre = model.predict(test_df)\n",
        "    y_train_pre = model.predict(x)\n",
        "    r2_train = r2_score(y, y_train_pre)\n",
        "    rmse_train  = np.sqrt(mean_squared_error(y, y_train_pre))\n",
        "    print(\"--------------------------------------------------------------\")\n",
        "    print(\"Model:\", name)\n",
        "    print(\"-----Training Data Evalution-----\")\n",
        "    print(\"R2 Value: \", r2_score(y, y_train_pre))\n",
        "    print(\"RMSE: \",np.sqrt(mean_squared_error(y, y_train_pre)))\n",
        "    dic[\"Model\"].append(name)\n",
        "    dic[\"R2_Train\"].append(r2_train)\n",
        "    dic[\"RMSE_Train\"].append(rmse_train)\n",
        "#final_data = pd.DataFrame(dic)\n",
        "#print(\"==================================================================\")\n",
        "#print(\"Best Model\")\n",
        "#print(\"==================================================================\")\n",
        "#print(final_data.max())\n",
        "#print(\"==================================================================\")\n",
        "#final_data.sort_values(\"RMSE_Train\", axis = 0, ascending = True)"
      ],
      "execution_count": null,
      "outputs": [
        {
          "output_type": "stream",
          "text": [
            "--------------------------------------------------------------\n",
            "Model: LinearRegression\n",
            "-----Training Data Evalution-----\n",
            "R2 Value:  0.009040211213129812\n",
            "RMSE:  189712.93532038896\n",
            "--------------------------------------------------------------\n",
            "Model: KNeighborsRegressor\n",
            "-----Training Data Evalution-----\n",
            "R2 Value:  0.5021277658407173\n",
            "RMSE:  134470.76669960658\n",
            "--------------------------------------------------------------\n",
            "Model: AdaBoostRegressor\n",
            "-----Training Data Evalution-----\n",
            "R2 Value:  0.9940595699520699\n",
            "RMSE:  14688.514311999641\n",
            "--------------------------------------------------------------\n",
            "Model: LGBMRegressor\n",
            "-----Training Data Evalution-----\n",
            "R2 Value:  0.39855249834279083\n",
            "RMSE:  147797.7389922806\n",
            "--------------------------------------------------------------\n",
            "Model: Ridge\n",
            "-----Training Data Evalution-----\n",
            "R2 Value:  0.009040206255215733\n",
            "RMSE:  189712.9357949695\n"
          ],
          "name": "stdout"
        },
        {
          "output_type": "stream",
          "text": [
            "/usr/local/lib/python3.7/dist-packages/sklearn/linear_model/_ridge.py:148: LinAlgWarning: Ill-conditioned matrix (rcond=7.43368e-19): result may not be accurate.\n",
            "  overwrite_a=True).T\n",
            "/usr/local/lib/python3.7/dist-packages/sklearn/linear_model/_coordinate_descent.py:476: ConvergenceWarning: Objective did not converge. You might want to increase the number of iterations. Duality gap: 346623066767396.8, tolerance: 69867499473.6642\n",
            "  positive)\n"
          ],
          "name": "stderr"
        },
        {
          "output_type": "stream",
          "text": [
            "--------------------------------------------------------------\n",
            "Model: ElasticNet\n",
            "-----Training Data Evalution-----\n",
            "R2 Value:  0.008153409544400914\n",
            "RMSE:  189797.80260144142\n",
            "--------------------------------------------------------------\n",
            "Model: GradientBoostingRegressor\n",
            "-----Training Data Evalution-----\n",
            "R2 Value:  0.9967694894375685\n",
            "RMSE:  10831.896717332444\n",
            "--------------------------------------------------------------\n",
            "Model: DecisionTreeRegressor\n",
            "-----Training Data Evalution-----\n",
            "R2 Value:  0.9998952206950348\n",
            "RMSE:  1950.7727677213907\n",
            "--------------------------------------------------------------\n",
            "Model: ExtraTreesRegressor\n",
            "-----Training Data Evalution-----\n",
            "R2 Value:  0.9998952205921737\n",
            "RMSE:  1950.7737252506233\n",
            "--------------------------------------------------------------\n",
            "Model: RandomForestRegressor\n",
            "-----Training Data Evalution-----\n",
            "R2 Value:  0.8052142932986057\n",
            "RMSE:  84109.96850375987\n",
            "[20:04:04] WARNING: /workspace/src/objective/regression_obj.cu:152: reg:linear is now deprecated in favor of reg:squarederror.\n",
            "--------------------------------------------------------------\n",
            "Model: XGBRegressor\n",
            "-----Training Data Evalution-----\n",
            "R2 Value:  0.9964505367019241\n",
            "RMSE:  11354.036149181027\n",
            "--------------------------------------------------------------\n",
            "Model: CatBoostRegressor\n",
            "-----Training Data Evalution-----\n",
            "R2 Value:  0.9980399703577076\n",
            "RMSE:  8437.236978007779\n",
            "CPU times: user 1min 27s, sys: 1.38 s, total: 1min 29s\n",
            "Wall time: 52.2 s\n"
          ],
          "name": "stdout"
        }
      ]
    },
    {
      "cell_type": "code",
      "metadata": {
        "id": "HRvmBEEC9rFz"
      },
      "source": [
        "from sklearn.metrics import accuracy_score,confusion_matrix,f1_score,mean_squared_error,r2_score,mean_squared_log_error\n",
        "from sklearn.ensemble import RandomForestRegressor\n",
        "from sklearn.tree import DecisionTreeRegressor\n",
        "\n",
        "from catboost import CatBoostRegressor\n",
        "from xgboost import XGBRegressor\n",
        "xgb = XGBRegressor()\n",
        "rfc = RandomForestRegressor(oob_score=True)\n",
        "cbx = CatBoostRegressor(iterations=5000)\n",
        "dtr = DecisionTreeRegressor()\n",
        "def m_eval(model,X_train,y_train,X_test,y_test):\n",
        "  for i in model:  \n",
        "    i.fit(X_train,y_train)\n",
        "    pred_train = i.predict(X_train)\n",
        "    pred_test = i.predict(X_test)\n",
        "    print(i)\n",
        "    print('Train rmsle',np.sqrt(mean_squared_error(y_train,pred_train)))\n",
        "    print('Test rmsle',np.sqrt(mean_squared_error(y_test,pred_test)))\n",
        "    print('Test mse',mean_squared_error(y_test,pred_test))\n",
        "\n",
        "    print('Train r2\\n',r2_score(y_train,pred_train))\n",
        "    print('Test max-r2\\n',max(0,100*r2_score(y_test,pred_test)))\n",
        "    print('Test r2\\n',r2_score(y_test,pred_test))\n",
        "    #print('Test f1_score\\n',f1_score(y_test,pred_test,average='macro'))"
      ],
      "execution_count": null,
      "outputs": []
    },
    {
      "cell_type": "code",
      "metadata": {
        "colab": {
          "base_uri": "https://localhost:8080/"
        },
        "id": "aR2kyTnB90rr",
        "outputId": "f1825744-9b15-4dc0-b66c-a8ae2e67ef85"
      },
      "source": [
        "m_eval([rfc,dtr,xgb,cbx],X_train,y_train,X_test,y_test)"
      ],
      "execution_count": null,
      "outputs": [
        {
          "output_type": "stream",
          "text": [
            "RandomForestRegressor(bootstrap=True, ccp_alpha=0.0, criterion='mse',\n",
            "                      max_depth=None, max_features='auto', max_leaf_nodes=None,\n",
            "                      max_samples=None, min_impurity_decrease=0.0,\n",
            "                      min_impurity_split=None, min_samples_leaf=1,\n",
            "                      min_samples_split=2, min_weight_fraction_leaf=0.0,\n",
            "                      n_estimators=100, n_jobs=None, oob_score=True,\n",
            "                      random_state=None, verbose=0, warm_start=False)\n",
            "Train rmsle 90830.33391231128\n",
            "Test rmsle 143341.20468219536\n",
            "Test mse 20546700959.743023\n",
            "Train r2\n",
            " 0.7953930010762639\n",
            "Test max-r2\n",
            " 0\n",
            "Test r2\n",
            " -67.57233376991539\n",
            "DecisionTreeRegressor(ccp_alpha=0.0, criterion='mse', max_depth=None,\n",
            "                      max_features=None, max_leaf_nodes=None,\n",
            "                      min_impurity_decrease=0.0, min_impurity_split=None,\n",
            "                      min_samples_leaf=1, min_samples_split=2,\n",
            "                      min_weight_fraction_leaf=0.0, presort='deprecated',\n",
            "                      random_state=None, splitter='best')\n",
            "Train rmsle 1930.968515571492\n",
            "Test rmsle 12083.137889136844\n",
            "Test mse 146002221.2478944\n",
            "Train r2\n",
            " 0.999907528255828\n",
            "Test max-r2\n",
            " 51.27337928275926\n",
            "Test r2\n",
            " 0.5127337928275926\n"
          ],
          "name": "stdout"
        }
      ]
    },
    {
      "cell_type": "code",
      "metadata": {
        "id": "o33iCPnc5Df2"
      },
      "source": [
        "from sklearn.experimental import enable_halving_search_cv\n",
        "from sklearn.model_selection import HalvingGridSearchCV"
      ],
      "execution_count": null,
      "outputs": []
    },
    {
      "cell_type": "code",
      "metadata": {
        "colab": {
          "base_uri": "https://localhost:8080/"
        },
        "id": "Nw0pZwn1lENM",
        "outputId": "6a255d59-988b-4e11-e627-4500b240a2ad"
      },
      "source": [
        "from sklearn.model_selection import RandomizedSearchCV\n",
        "from sklearn.ensemble import RandomForestClassifier\n",
        "rfc = RandomForestRegressor()\n",
        "\n",
        "\n",
        "#Randomized Search CV , Grid search CV \n",
        "# random is better than grid we consider random \n",
        "\n",
        "# Number of trees in random forest\n",
        "n_estimators = [int(x) for x in np.linspace(start = 100, stop = 150, num = 15)]\n",
        "# Number of features to consider at every split\n",
        "#max_features = ['auto']\n",
        "# Maximum number of levels in tree\n",
        "max_depth = [int(x) for x in np.linspace(48,100,num=20)]\n",
        "# max_depth.append(None)\n",
        "# Minimum number of samples required to split a node\n",
        "min_samples_split = [5, 10, 15,20]\n",
        "# Minimum number of samples required at each leaf node\n",
        "min_samples_leaf = [1, 2, 5, 10, 15, 20, 25]\n",
        "\n",
        "\n",
        "\n",
        "# Create the random grid\n",
        "random_grid_01 = {'n_estimators': n_estimators,\n",
        "             #  'max_features': max_features,\n",
        "               'max_depth': max_depth,\n",
        "               'min_samples_split': min_samples_split,\n",
        "               'min_samples_leaf': min_samples_leaf}\n",
        "\n",
        "print(random_grid_01)\n",
        "\n",
        "rf_random_0f = HalvingGridSearchCV(rfc,random_grid_01,scoring='neg_mean_squared_log_error', cv = 2, verbose=2 ,random_state=42)\n",
        "\n"
      ],
      "execution_count": null,
      "outputs": [
        {
          "output_type": "stream",
          "text": [
            "{'n_estimators': [100, 103, 107, 110, 114, 117, 121, 125, 128, 132, 135, 139, 142, 146, 150], 'max_depth': [48, 50, 53, 56, 58, 61, 64, 67, 69, 72, 75, 78, 80, 83, 86, 89, 91, 94, 97, 100], 'min_samples_split': [5, 10, 15, 20], 'min_samples_leaf': [1, 2, 5, 10, 15, 20, 25]}\n"
          ],
          "name": "stdout"
        }
      ]
    },
    {
      "cell_type": "code",
      "metadata": {
        "id": "5kdIAWLfmptg"
      },
      "source": [
        "rf_random_0f.fit(X_train,y_train.ravel())"
      ],
      "execution_count": null,
      "outputs": []
    },
    {
      "cell_type": "code",
      "metadata": {
        "colab": {
          "base_uri": "https://localhost:8080/"
        },
        "id": "copXeTSroFoj",
        "outputId": "bf4d9c6c-451c-4a28-952c-6cc95bffa9af"
      },
      "source": [
        "rf_random_0f.best_estimator_"
      ],
      "execution_count": null,
      "outputs": [
        {
          "output_type": "execute_result",
          "data": {
            "text/plain": [
              "RandomForestRegressor(max_depth=50, min_samples_split=10, n_estimators=130)"
            ]
          },
          "metadata": {
            "tags": []
          },
          "execution_count": 61
        }
      ]
    },
    {
      "cell_type": "code",
      "metadata": {
        "colab": {
          "base_uri": "https://localhost:8080/",
          "height": 962
        },
        "id": "HSdpSBMIHWZR",
        "outputId": "dea1d99e-db8d-4ee0-d978-f19f26e73c02"
      },
      "source": [
        "pd.DataFrame(rfc.feature_importances_,index=X_train.columns).sort_values(0,ascending=False).head(30)"
      ],
      "execution_count": null,
      "outputs": [
        {
          "output_type": "execute_result",
          "data": {
            "text/html": [
              "<div>\n",
              "<style scoped>\n",
              "    .dataframe tbody tr th:only-of-type {\n",
              "        vertical-align: middle;\n",
              "    }\n",
              "\n",
              "    .dataframe tbody tr th {\n",
              "        vertical-align: top;\n",
              "    }\n",
              "\n",
              "    .dataframe thead th {\n",
              "        text-align: right;\n",
              "    }\n",
              "</style>\n",
              "<table border=\"1\" class=\"dataframe\">\n",
              "  <thead>\n",
              "    <tr style=\"text-align: right;\">\n",
              "      <th></th>\n",
              "      <th>0</th>\n",
              "    </tr>\n",
              "  </thead>\n",
              "  <tbody>\n",
              "    <tr>\n",
              "      <th>Prod</th>\n",
              "      <td>0.145019</td>\n",
              "    </tr>\n",
              "    <tr>\n",
              "      <th>Color</th>\n",
              "      <td>0.115077</td>\n",
              "    </tr>\n",
              "    <tr>\n",
              "      <th>Prod. year</th>\n",
              "      <td>0.103398</td>\n",
              "    </tr>\n",
              "    <tr>\n",
              "      <th>Airbags</th>\n",
              "      <td>0.090998</td>\n",
              "    </tr>\n",
              "    <tr>\n",
              "      <th>l_cl</th>\n",
              "      <td>0.080600</td>\n",
              "    </tr>\n",
              "    <tr>\n",
              "      <th>Levy_air</th>\n",
              "      <td>0.063155</td>\n",
              "    </tr>\n",
              "    <tr>\n",
              "      <th>l_cat</th>\n",
              "      <td>0.062140</td>\n",
              "    </tr>\n",
              "    <tr>\n",
              "      <th>Engine volume</th>\n",
              "      <td>0.057817</td>\n",
              "    </tr>\n",
              "    <tr>\n",
              "      <th>a_cat</th>\n",
              "      <td>0.037119</td>\n",
              "    </tr>\n",
              "    <tr>\n",
              "      <th>l_flt</th>\n",
              "      <td>0.032325</td>\n",
              "    </tr>\n",
              "    <tr>\n",
              "      <th>a_flt</th>\n",
              "      <td>0.032075</td>\n",
              "    </tr>\n",
              "    <tr>\n",
              "      <th>a_cl</th>\n",
              "      <td>0.023762</td>\n",
              "    </tr>\n",
              "    <tr>\n",
              "      <th>lev_A</th>\n",
              "      <td>0.020509</td>\n",
              "    </tr>\n",
              "    <tr>\n",
              "      <th>Doors</th>\n",
              "      <td>0.018304</td>\n",
              "    </tr>\n",
              "    <tr>\n",
              "      <th>a_dw</th>\n",
              "      <td>0.016293</td>\n",
              "    </tr>\n",
              "    <tr>\n",
              "      <th>Category</th>\n",
              "      <td>0.014701</td>\n",
              "    </tr>\n",
              "    <tr>\n",
              "      <th>Levy</th>\n",
              "      <td>0.009736</td>\n",
              "    </tr>\n",
              "    <tr>\n",
              "      <th>l_dw</th>\n",
              "      <td>0.008733</td>\n",
              "    </tr>\n",
              "    <tr>\n",
              "      <th>Gear box type</th>\n",
              "      <td>0.008569</td>\n",
              "    </tr>\n",
              "    <tr>\n",
              "      <th>a_cyl</th>\n",
              "      <td>0.008518</td>\n",
              "    </tr>\n",
              "    <tr>\n",
              "      <th>eng_cyl</th>\n",
              "      <td>0.008256</td>\n",
              "    </tr>\n",
              "    <tr>\n",
              "      <th>l_cyl</th>\n",
              "      <td>0.007260</td>\n",
              "    </tr>\n",
              "    <tr>\n",
              "      <th>a</th>\n",
              "      <td>0.005956</td>\n",
              "    </tr>\n",
              "    <tr>\n",
              "      <th>l_w</th>\n",
              "      <td>0.005528</td>\n",
              "    </tr>\n",
              "    <tr>\n",
              "      <th>a_w</th>\n",
              "      <td>0.004412</td>\n",
              "    </tr>\n",
              "    <tr>\n",
              "      <th>Cylinders</th>\n",
              "      <td>0.004015</td>\n",
              "    </tr>\n",
              "    <tr>\n",
              "      <th>Leather interior</th>\n",
              "      <td>0.003982</td>\n",
              "    </tr>\n",
              "    <tr>\n",
              "      <th>a_gbt</th>\n",
              "      <td>0.003663</td>\n",
              "    </tr>\n",
              "    <tr>\n",
              "      <th>l_gbt</th>\n",
              "      <td>0.003505</td>\n",
              "    </tr>\n",
              "    <tr>\n",
              "      <th>Drive wheels</th>\n",
              "      <td>0.002113</td>\n",
              "    </tr>\n",
              "  </tbody>\n",
              "</table>\n",
              "</div>"
            ],
            "text/plain": [
              "                         0\n",
              "Prod              0.145019\n",
              "Color             0.115077\n",
              "Prod. year        0.103398\n",
              "Airbags           0.090998\n",
              "l_cl              0.080600\n",
              "Levy_air          0.063155\n",
              "l_cat             0.062140\n",
              "Engine volume     0.057817\n",
              "a_cat             0.037119\n",
              "l_flt             0.032325\n",
              "a_flt             0.032075\n",
              "a_cl              0.023762\n",
              "lev_A             0.020509\n",
              "Doors             0.018304\n",
              "a_dw              0.016293\n",
              "Category          0.014701\n",
              "Levy              0.009736\n",
              "l_dw              0.008733\n",
              "Gear box type     0.008569\n",
              "a_cyl             0.008518\n",
              "eng_cyl           0.008256\n",
              "l_cyl             0.007260\n",
              "a                 0.005956\n",
              "l_w               0.005528\n",
              "a_w               0.004412\n",
              "Cylinders         0.004015\n",
              "Leather interior  0.003982\n",
              "a_gbt             0.003663\n",
              "l_gbt             0.003505\n",
              "Drive wheels      0.002113"
            ]
          },
          "metadata": {
            "tags": []
          },
          "execution_count": 221
        }
      ]
    },
    {
      "cell_type": "markdown",
      "metadata": {
        "id": "99MKwpB6i_Pa"
      },
      "source": [
        "a\t0.325178\n",
        "Prod. year\t0.090819\n",
        "Airbags\t0.076583\n",
        "Engine volume\t0.073357\n",
        "Levy_max\t0.062883\n",
        "Doors\t0.048764\n",
        "Levy_sum"
      ]
    },
    {
      "cell_type": "code",
      "metadata": {
        "id": "86Kc-6qFPbzT"
      },
      "source": [
        "test_sc = se.transform(test_.drop(['Price','Mileage','ID'],axis=1))"
      ],
      "execution_count": null,
      "outputs": []
    },
    {
      "cell_type": "code",
      "metadata": {
        "id": "rTs1DgTm99mT"
      },
      "source": [
        "pred = cbx.predict(test_.drop(['Price','Mileage','ID','Wheel','Color'],axis=1))"
      ],
      "execution_count": null,
      "outputs": []
    },
    {
      "cell_type": "code",
      "metadata": {
        "id": "q2MdKppI-9i9"
      },
      "source": [
        "df2 = pd.DataFrame(pred)"
      ],
      "execution_count": null,
      "outputs": []
    },
    {
      "cell_type": "code",
      "metadata": {
        "id": "V6mzz7Ac_K-I"
      },
      "source": [
        "df2.to_csv('cbx_machine.csv',index=False)"
      ],
      "execution_count": null,
      "outputs": []
    }
  ]
}